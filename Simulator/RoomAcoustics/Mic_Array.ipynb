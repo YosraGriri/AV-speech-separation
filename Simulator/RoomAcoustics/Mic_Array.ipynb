{
 "cells": [
  {
   "cell_type": "code",
   "execution_count": 1,
   "id": "aadbf82c-09ae-4830-81a2-07fab7996154",
   "metadata": {},
   "outputs": [],
   "source": [
    "import numpy as np\n",
    "import matplotlib.pyplot as plt\n",
    "import pyroomacoustics as pra"
   ]
  },
  {
   "cell_type": "code",
   "execution_count": 2,
   "id": "3542a96d-d8d4-4788-b1e3-c946c5e284c9",
   "metadata": {},
   "outputs": [],
   "source": [
    "def generate_mic_array(room, mic_radius: float, n_mics: int):\n",
    "    \"\"\"\n",
    "    Generate a list of Microphone objects\n",
    "\n",
    "    Radius = 50th percentile of men Bitragion breadth\n",
    "    (https://en.wikipedia.org/wiki/Human_head)\n",
    "    \"\"\"\n",
    "    R = pra.circular_2D_array(center=[0., 0.], M=n_mics, phi0=0, radius=mic_radius)\n",
    "    room.add_microphone_array(pra.MicrophoneArray(R, room.fs))"
   ]
  },
  {
   "cell_type": "code",
   "execution_count": 3,
   "id": "6b39d295-c608-4988-8207-1b2e265eb009",
   "metadata": {},
   "outputs": [
    {
     "ename": "NameError",
     "evalue": "name 'room' is not defined",
     "output_type": "error",
     "traceback": [
      "\u001b[1;31m---------------------------------------------------------------------------\u001b[0m",
      "\u001b[1;31mNameError\u001b[0m                                 Traceback (most recent call last)",
      "Cell \u001b[1;32mIn[3], line 6\u001b[0m\n\u001b[0;32m      3\u001b[0m n_mics \u001b[38;5;241m=\u001b[39m \u001b[38;5;241m4\u001b[39m  \u001b[38;5;66;03m# Specify the number of microphones you want\u001b[39;00m\n\u001b[0;32m      5\u001b[0m \u001b[38;5;66;03m# Call the generate_mic_array function\u001b[39;00m\n\u001b[1;32m----> 6\u001b[0m generate_mic_array(room, mic_radius, n_mics)\n",
      "\u001b[1;31mNameError\u001b[0m: name 'room' is not defined"
     ]
    }
   ],
   "source": [
    "# Assuming you have a 'room' object and other necessary parameters\n",
    "mic_radius = 0.03231  # Example radius value, you may adjust as needed\n",
    "n_mics = 4  # Specify the number of microphones you want\n",
    "\n",
    "# Call the generate_mic_array function\n",
    "generate_mic_array(room, mic_radius, n_mics)"
   ]
  },
  {
   "cell_type": "code",
   "execution_count": null,
   "id": "1cd4145e-244c-49a8-b04b-3e4abf345191",
   "metadata": {},
   "outputs": [],
   "source": []
  }
 ],
 "metadata": {
  "kernelspec": {
   "display_name": "Python 3 (ipykernel)",
   "language": "python",
   "name": "python3"
  },
  "language_info": {
   "codemirror_mode": {
    "name": "ipython",
    "version": 3
   },
   "file_extension": ".py",
   "mimetype": "text/x-python",
   "name": "python",
   "nbconvert_exporter": "python",
   "pygments_lexer": "ipython3",
   "version": "3.11.5"
  }
 },
 "nbformat": 4,
 "nbformat_minor": 5
}
