{
 "cells": [
  {
   "cell_type": "code",
   "execution_count": 1,
   "id": "dce1426e",
   "metadata": {},
   "outputs": [],
   "source": [
    "import numpy as np\n",
    "import matplotlib.pyplot as plt\n",
    "import librosa\n",
    "from scipy.linalg import eigh, LinAlgError"
   ]
  },
  {
   "cell_type": "code",
   "execution_count": 2,
   "id": "7f002977",
   "metadata": {},
   "outputs": [],
   "source": [
    "import torchaudio.transforms\n",
    "import torch"
   ]
  },
  {
   "cell_type": "code",
   "execution_count": 3,
   "id": "dcfa1c20",
   "metadata": {},
   "outputs": [
    {
     "ename": "FileNotFoundError",
     "evalue": "[Errno 2] No such file or directory: '../model_results/model_output/noise_mask_mic0.npy'",
     "output_type": "error",
     "traceback": [
      "\u001b[1;31m---------------------------------------------------------------------------\u001b[0m",
      "\u001b[1;31mFileNotFoundError\u001b[0m                         Traceback (most recent call last)",
      "Cell \u001b[1;32mIn[3], line 2\u001b[0m\n\u001b[0;32m      1\u001b[0m \u001b[38;5;66;03m### Loading data\u001b[39;00m\n\u001b[1;32m----> 2\u001b[0m noise_mask_0 \u001b[38;5;241m=\u001b[39m np\u001b[38;5;241m.\u001b[39mload(\u001b[38;5;124m'\u001b[39m\u001b[38;5;124m../model_results/model_output/noise_mask_mic0.npy\u001b[39m\u001b[38;5;124m'\u001b[39m)\n\u001b[0;32m      3\u001b[0m target_mask_0 \u001b[38;5;241m=\u001b[39m np\u001b[38;5;241m.\u001b[39mload(\u001b[38;5;124m'\u001b[39m\u001b[38;5;124m../model_results/model_output/target_mask_mic0.npy\u001b[39m\u001b[38;5;124m'\u001b[39m)\n\u001b[0;32m      4\u001b[0m noise_mask_1 \u001b[38;5;241m=\u001b[39m np\u001b[38;5;241m.\u001b[39mload(\u001b[38;5;124m'\u001b[39m\u001b[38;5;124m../model_results/model_output/noise_mask_mic1.npy\u001b[39m\u001b[38;5;124m'\u001b[39m)\n",
      "File \u001b[1;32m~\\anaconda3\\Lib\\site-packages\\numpy\\lib\\npyio.py:405\u001b[0m, in \u001b[0;36mload\u001b[1;34m(file, mmap_mode, allow_pickle, fix_imports, encoding, max_header_size)\u001b[0m\n\u001b[0;32m    403\u001b[0m     own_fid \u001b[38;5;241m=\u001b[39m \u001b[38;5;28;01mFalse\u001b[39;00m\n\u001b[0;32m    404\u001b[0m \u001b[38;5;28;01melse\u001b[39;00m:\n\u001b[1;32m--> 405\u001b[0m     fid \u001b[38;5;241m=\u001b[39m stack\u001b[38;5;241m.\u001b[39menter_context(\u001b[38;5;28mopen\u001b[39m(os_fspath(file), \u001b[38;5;124m\"\u001b[39m\u001b[38;5;124mrb\u001b[39m\u001b[38;5;124m\"\u001b[39m))\n\u001b[0;32m    406\u001b[0m     own_fid \u001b[38;5;241m=\u001b[39m \u001b[38;5;28;01mTrue\u001b[39;00m\n\u001b[0;32m    408\u001b[0m \u001b[38;5;66;03m# Code to distinguish from NumPy binary files and pickles.\u001b[39;00m\n",
      "\u001b[1;31mFileNotFoundError\u001b[0m: [Errno 2] No such file or directory: '../model_results/model_output/noise_mask_mic0.npy'"
     ]
    }
   ],
   "source": [
    "### Loading data\n",
    "noise_mask_0 = np.load('../model_results/model_output/noise_mask_mic0.npy')\n",
    "target_mask_0 = np.load('../model_results/model_output/target_mask_mic0.npy')\n",
    "noise_mask_1 = np.load('../model_results/model_output/noise_mask_mic1.npy')\n",
    "target_mask_1 = np.load('../model_results/model_output/target_mask_mic1.npy')\n",
    "\n",
    "#pred_spec_1_imag = np.load('../model_results/model_output/pred_spec_1_imag.npy')\n",
    "#pred_spec_1_real = np.load('../model_results/model_output/pred_spec_1_real.npy')\n",
    "#pred_spec_2_imag = np.load('../model_results/model_output/pred_spec_2_imag.npy')\n",
    "#pred_spec_2_real = np.load('../model_results/model_output/pred_spec_2_real.npy')\n",
    "\n",
    "mixture_spec_mic0 = np.load('../model_results/model_output/mixture_spec_mic0.npy')\n",
    "mixture_spec_mic0 = mixture_spec_mic0[:,:256,:]\n",
    "mixture_spec_mic1 = np.load('../model_results/model_output/mixture_spec_mic1.npy')\n",
    "mixture_spec_mic1 = mixture_spec_mic1[:,:256,:]\n"
   ]
  },
  {
   "cell_type": "code",
   "execution_count": null,
   "id": "3c14b80f",
   "metadata": {},
   "outputs": [],
   "source": [
    "# Print the shapes of the arrays\n",
    "print(f\"Shape of target_mask_0: {target_mask_0.shape}\")\n",
    "print(f\"Shape of noise_mask_0: {noise_mask_0.shape}\")\n",
    "print(f\"Shape of target_mask_1: {target_mask_1.shape}\")\n",
    "print(f\"Shape of noise_mask_1: {noise_mask_1.shape}\")\n",
    "\n",
    "print(f\"Shape of mixture_spec_mic0: {mixture_spec_mic0.shape}\")\n",
    "print(f\"Shape of mixture_spec_mic1: {mixture_spec_mic1.shape}\")\n",
    "\n",
    "# If you want to see basic stats about the masks, you can do the following:\n",
    "#print(f\"Target Mask - Min: {np.min(target_mask)}, Max: {np.max(target_mask)}, Mean: {np.mean(target_mask)}, Std: {np.std(target_mask)}\")\n",
    "#print(f\"Noise Mask - Min: {np.min(noise_mask)}, Max: {np.max(noise_mask)}, Mean: {np.mean(noise_mask)}, Std: {np.std(noise_mask)}\")\n"
   ]
  },
  {
   "cell_type": "code",
   "execution_count": null,
   "id": "a4d01a8d",
   "metadata": {},
   "outputs": [],
   "source": [
    "#Prepare data for PSD calculation\n",
    "# Convert to PyTorch tensors\n",
    "mixture_spec_mic0_tensor = torch.from_numpy(mixture_spec_mic0)\n",
    "mixture_spec_mic1_tensor = torch.from_numpy(mixture_spec_mic1)\n",
    "#target_mask_0_tensor = target_mask_0_tensor[:,:,-1,:]\n",
    "#target_mask_1_tensor = target_mask_1_tensor[:,:,-1,:]\n",
    "target_mask_0_tensor = torch.from_numpy(target_mask_0)\n",
    "target_mask_1_tensor = torch.from_numpy(target_mask_1)\n",
    "\n",
    "noise_mask_0_tensor = torch.from_numpy(noise_mask_0)\n",
    "noise_mask_1_tensor = torch.from_numpy(noise_mask_1)\n",
    "\n",
    "spectrogram_tensor = torch.stack([mixture_spec_mic0_tensor, mixture_spec_mic1_tensor], dim=0)\n",
    "print (spectrogram_tensor.dtype)\n",
    "target_mask_tensor = torch.stack([target_mask_0_tensor,target_mask_1_tensor], dim=0) \n",
    "target_mask_tensor = target_mask_tensor[:,0,:,:]\n",
    "noise_mask_tensor = torch.stack([noise_mask_0_tensor,noise_mask_1_tensor], dim=0) \n",
    "noise_mask_tensor = noise_mask_tensor[:,0,:,:]\n",
    " "
   ]
  },
  {
   "cell_type": "code",
   "execution_count": null,
   "id": "b65d1d77",
   "metadata": {},
   "outputs": [],
   "source": [
    "print(f\"Shape of spectrogram_tensor: {spectrogram_tensor.shape}\")\n",
    "print(f\"Shape of target_mask_tensor: {target_mask_tensor.shape}\")\n",
    "print(f\"Shape of target_mask_tensor: {noise_mask_tensor.shape}\")\n",
    "print (spectrogram_tensor.dtype)"
   ]
  },
  {
   "cell_type": "code",
   "execution_count": null,
   "id": "8771e454",
   "metadata": {},
   "outputs": [],
   "source": [
    "#Compute PSD Matrices\n",
    "psd_transform = torchaudio.transforms.PSD(multi_mask=True)"
   ]
  },
  {
   "cell_type": "code",
   "execution_count": null,
   "id": "0a41806a",
   "metadata": {},
   "outputs": [],
   "source": [
    "psd_matrix_target = psd_transform(spectrogram_tensor.unsqueeze(0), target_mask_tensor.unsqueeze(0))\n",
    "psd_matrix_target = psd_matrix_target.squeeze(0)\n",
    "psd_matrix_noise = psd_transform(spectrogram_tensor.unsqueeze(0), noise_mask_tensor.unsqueeze(0))\n",
    "psd_matrix_noise = psd_matrix_noise.squeeze(0)\n",
    "print (spectrogram_tensor.dtype)"
   ]
  },
  {
   "cell_type": "code",
   "execution_count": null,
   "id": "32c65871",
   "metadata": {},
   "outputs": [],
   "source": [
    "#Back to numpy \n",
    "spectrogram_array = spectrogram_tensor.detach().cpu().numpy()\n",
    "target_mask_array = target_mask_tensor.detach().cpu().numpy()\n",
    "noise_mask_array = noise_mask_tensor.detach().cpu().numpy()\n",
    "psd_matrix_noise = psd_matrix_noise.detach().cpu().numpy()\n",
    "psd_matrix_target = psd_matrix_target.detach().cpu().numpy()"
   ]
  },
  {
   "cell_type": "code",
   "execution_count": null,
   "id": "f0ec7d51",
   "metadata": {},
   "outputs": [],
   "source": [
    "print(f\"Shape of psd_matrix_target: {psd_matrix_target.shape}\")\n",
    "print(f\"Shape of psd_matrix_noise: {psd_matrix_noise.shape}\")\n",
    "print (spectrogram_array.dtype)"
   ]
  },
  {
   "cell_type": "code",
   "execution_count": null,
   "id": "6a86de1b",
   "metadata": {},
   "outputs": [],
   "source": [
    "class GEVBeamformer:\n",
    "    def __init__(self, gamma=1e-6):\n",
    "        self.gamma = gamma\n",
    "        \n",
    "    def condition_covariance(self, x, gamma):\n",
    "        \n",
    "        \"\"\"see https://stt.msu.edu/users/mauryaas/Ashwini_JPEN.pdf (2.3)\"\"\"\n",
    "        \n",
    "        scale = gamma * np.trace(x) / x.shape[-1]\n",
    "        scaled_eye = np.eye(x.shape[-1]) * scale\n",
    "        return (x + scaled_eye) / (1 + gamma)\n",
    "    \n",
    "    def phase_correction(self, vector):\n",
    "        \"\"\"Phase correction to reduce distortions due to phase inconsistencies\n",
    "        Args:\n",
    "        vector: Beamforming vector with shape (..., bins, sensors).\n",
    "        Returns: Phase corrected beamforming vectors. Lengths remain.\n",
    "        \"\"\"\n",
    "        \n",
    "        w = vector.copy()\n",
    "        F, D = w.shape\n",
    "        for f in range(1, F):\n",
    "            w[f, :] *= np.exp(-1j*np.angle(\n",
    "                np.sum(w[f, :] * w[f-1, :].conj(), axis=-1, keepdims=True)))\n",
    "        return w\n",
    "    \n",
    "    def get_gev_vector(self, target_psd_matrix, noise_psd_matrix):\n",
    "        \n",
    "        \"\"\"\n",
    "        Returns the GEV beamforming vector.\n",
    "        :param target_psd_matrix: Target PSD matrix\n",
    "        with shape (bins, sensors, sensors)\n",
    "        :param noise_psd_matrix: Noise PSD matrix\n",
    "        with shape (bins, sensors, sensors)\n",
    "        :return: Set of beamforming vectors with shape (bins, sensors)\n",
    "        \"\"\"\n",
    "        target_psd_matrix = target_psd_matrix[0,:,:,:]\n",
    "        noise_psd_matrix = noise_psd_matrix[0,:,:,:]\n",
    "        bins, sensors, _ = target_psd_matrix.shape\n",
    "        beamforming_vector = np.empty((bins, sensors), dtype=np.complex128)\n",
    "        for f in range(bins):\n",
    "            try:\n",
    "                eigenvals, eigenvecs = eigh(target_psd_matrix[f, :, :],\n",
    "                                        noise_psd_matrix[f, :, :])\n",
    "                beamforming_vector[f, :] = eigenvecs[:, -1]\n",
    "            except np.linalg.LinAlgError:\n",
    "                print('LinAlg error for frequency {}'.format(f))\n",
    "                beamforming_vector[f, :] = (\n",
    "                    np.ones((sensors,)) / np.trace(noise_psd_matrix[f]) * sensors)\n",
    "        return beamforming_vector\n",
    "\n",
    "\n",
    "    def get_beamforming_vector(self, target_psd_matrix, noise_psd_matrix):\n",
    "        # First, condition the noise PSD matrix\n",
    "        conditioned_noise_psd = self.condition_covariance(noise_psd_matrix)\n",
    "        # Then, get the GEV beamforming vector\n",
    "        return get_gev_vector(target_psd_matrix, conditioned_noise_psd)\n",
    "    \n",
    "    def apply_beamforming_vector(self, vector, mix):\n",
    "        return np.einsum('...a,...at->...t', vector.conj(), mix)\n",
    "    \n",
    "    def gev_wrapper_on_masks(self, mix, target_psd_matrix, noise_psd_matrix,\n",
    "                         normalization=False):\n",
    "        org_dtype = mix.dtype\n",
    "        mix = mix.astype(np.complex128)\n",
    "        mix = mix.T\n",
    "        noise_psd_matrix = self.condition_covariance(noise_psd_matrix, 1e-6)\n",
    "        noise_psd_matrix /= np.trace(\n",
    "            noise_psd_matrix, axis1=-2, axis2=-1)[..., None, None]\n",
    "        W_gev = self.get_gev_vector(target_psd_matrix, noise_psd_matrix)\n",
    "        print (f'Shape of GEV vector: {W_gev.shape}')\n",
    "        W_gev = self.phase_correction(W_gev)\n",
    "        \n",
    "        if normalization:\n",
    "            W_gev = blind_analytic_normalization(W_gev, noise_psd_matrix)\n",
    "        output = self.apply_beamforming_vector(W_gev, mix)\n",
    "        output = output.astype(org_dtype)\n",
    "        \n",
    "        return output.T\n",
    "   "
   ]
  },
  {
   "cell_type": "code",
   "execution_count": null,
   "id": "d9fefd02",
   "metadata": {},
   "outputs": [],
   "source": [
    "#apply Beamforming\n",
    "print (spectrogram_array.dtype)\n",
    "gev_beamformer = GEVBeamformer()\n",
    "gev = gev_beamformer.gev_wrapper_on_masks(spectrogram_array, \n",
    "                         psd_matrix_target, \n",
    "                         psd_matrix_noise)\n",
    "np.save('gev.np',gev)"
   ]
  },
  {
   "cell_type": "code",
   "execution_count": null,
   "id": "d8f014f4",
   "metadata": {},
   "outputs": [],
   "source": [
    "y, sr = librosa.load(\"C:/Users/yosra/Documents/AV-speech-separation/data/simulated_RIR/VoxCeleb2/raw_audio/id04030/JbcD0P6KGe0/00039_mic0_voice0.wav\", sr=16000)  # sr=None ensures the original sampling rate is used\n",
    "\n",
    "# Calculate the duration in seconds\n",
    "duration = librosa.get_duration(y=y, sr=sr)\n",
    "context_samples = duration * 16000"
   ]
  },
  {
   "cell_type": "code",
   "execution_count": null,
   "id": "26ea931e",
   "metadata": {},
   "outputs": [],
   "source": [
    "def istft_reconstruction(mag, phase, hop_length=160, win_length=400, length=65535):\n",
    "    spec = mag.astype(np.complex128) * np.exp(1j*phase)\n",
    "    wav = librosa.istft(spec, hop_length=hop_length, win_length=win_length, length=length)\n",
    "    return np.clip(wav, -1., 1.)"
   ]
  },
  {
   "cell_type": "code",
   "execution_count": null,
   "id": "2b122395",
   "metadata": {},
   "outputs": [],
   "source": [
    "from signal_processing import audiowrite, stft, istft\n",
    "from IPython.display import Audio"
   ]
  },
  {
   "cell_type": "code",
   "execution_count": null,
   "id": "a6d39270",
   "metadata": {},
   "outputs": [],
   "source": [
    "print(f'The GEV vector type is: {gev.dtype}')\n",
    "print(f'The GEV vector shape is: {gev.shape}')\n",
    "phase = spectrogram_array[1,:,:,:]\n",
    "print(f'The phase shape is: {phase.shape}')\n",
    "wav =istft_reconstruction(gev, phase, hop_length=160, win_length=400, length=65535)\n",
    "#time_signal = istft(gev, size=512, shift=128, window_length=400)\n",
    "filename = 'ay_rabi_m3ak.wav'\n",
    "# Write the audio data to a WAV file\n",
    "#audiowrite(audio_time_domain, filename, 16000, True, True)"
   ]
  },
  {
   "cell_type": "code",
   "execution_count": null,
   "id": "7432fb34",
   "metadata": {},
   "outputs": [],
   "source": [
    "# Play the audio\n",
    "display(Audio(wav, rate=16000))  # Replace 16000 with your sample rate"
   ]
  },
  {
   "cell_type": "code",
   "execution_count": null,
   "id": "8d74c8d3",
   "metadata": {},
   "outputs": [],
   "source": [
    "def plot_waveform(waveform=None, sampling_rate=1000, title=\"Waveform Plot\", x_label=\"Time (s)\", y_label=\"Amplitude\", theme=\"light\"):\n",
    "    \"\"\"\n",
    "    Plots a waveform with customization options.\n",
    "\n",
    "    Parameters:\n",
    "    - waveform: ndarray, optional\n",
    "        The waveform data to plot. If None, a default sine wave is generated.\n",
    "    - sampling_rate: int, optional\n",
    "        The sampling rate of the waveform in Hz.\n",
    "    - title: str, optional\n",
    "        The title of the plot.\n",
    "    - x_label: str, optional\n",
    "        The label for the x-axis.\n",
    "    - y_label: str, optional\n",
    "        The label for the y-axis.\n",
    "    - theme: str, optional\n",
    "        The theme of the plot, \"light\" or \"dark\".\n",
    "\n",
    "    Returns:\n",
    "    - None\n",
    "    \"\"\"\n",
    "\n",
    "    # Create a default sine waveform if none is provided\n",
    "    if waveform is None:\n",
    "        t = np.linspace(0, 1, sampling_rate)\n",
    "        waveform = np.sin(2 * np.pi * 5 * t)  # 5 Hz sine wave\n",
    "    else:\n",
    "        t = np.arange(len(waveform)) / sampling_rate\n",
    "\n",
    "    # Set theme\n",
    "    if theme == \"dark\":\n",
    "        plt.style.use(\"dark_background\")\n",
    "    else:\n",
    "        plt.style.use(\"seaborn-whitegrid\")\n",
    "\n",
    "    # Plot the waveform\n",
    "    plt.figure(figsize=(10, 5))\n",
    "    plt.plot(t, waveform, linewidth=2)\n",
    "    plt.title(title)\n",
    "    plt.xlabel(x_label)\n",
    "    plt.ylabel(y_label)\n",
    "    plt.grid(True)\n",
    "    plt.tight_layout()\n",
    "    plt.show()"
   ]
  },
  {
   "cell_type": "code",
   "execution_count": null,
   "id": "6825cf58",
   "metadata": {},
   "outputs": [],
   "source": [
    "plot_waveform(waveform=wav, sampling_rate=16000, title=\"Waveform Plot\", x_label=\"Time (s)\", y_label=\"Amplitude\", theme=\"dark\")"
   ]
  },
  {
   "cell_type": "code",
   "execution_count": null,
   "id": "04c989b9",
   "metadata": {},
   "outputs": [],
   "source": []
  }
 ],
 "metadata": {
  "kernelspec": {
   "display_name": "Python 3 (ipykernel)",
   "language": "python",
   "name": "python3"
  },
  "language_info": {
   "codemirror_mode": {
    "name": "ipython",
    "version": 3
   },
   "file_extension": ".py",
   "mimetype": "text/x-python",
   "name": "python",
   "nbconvert_exporter": "python",
   "pygments_lexer": "ipython3",
   "version": "3.11.5"
  }
 },
 "nbformat": 4,
 "nbformat_minor": 5
}
