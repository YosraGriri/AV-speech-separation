{
 "cells": [
  {
   "cell_type": "code",
   "execution_count": 1,
   "id": "dce1426e",
   "metadata": {},
   "outputs": [],
   "source": [
    "import numpy as np\n",
    "import matplotlib.pyplot as plt\n",
    "import librosa\n",
    "from scipy.linalg import eigh, LinAlgError"
   ]
  },
  {
   "cell_type": "code",
   "execution_count": 2,
   "id": "7f002977",
   "metadata": {},
   "outputs": [],
   "source": [
    "import torchaudio.transforms\n",
    "import torch"
   ]
  },
  {
   "cell_type": "code",
   "execution_count": 3,
   "id": "dcfa1c20",
   "metadata": {},
   "outputs": [],
   "source": [
    "### Loading data\n",
    "noise_mask_0 = np.load('../model_results/model_output/noise_mask_mic0.npy')\n",
    "target_mask_0 = np.load('../model_results/model_output/target_mask_mic0.npy')\n",
    "noise_mask_1 = np.load('../model_results/model_output/noise_mask_mic1.npy')\n",
    "target_mask_1 = np.load('../model_results/model_output/target_mask_mic1.npy')\n",
    "\n",
    "#pred_spec_1_imag = np.load('../model_results/model_output/pred_spec_1_imag.npy')\n",
    "#pred_spec_1_real = np.load('../model_results/model_output/pred_spec_1_real.npy')\n",
    "#pred_spec_2_imag = np.load('../model_results/model_output/pred_spec_2_imag.npy')\n",
    "#pred_spec_2_real = np.load('../model_results/model_output/pred_spec_2_real.npy')\n",
    "\n",
    "mixture_spec_mic0 = np.load('../model_results/model_output/mixture_spec_mic0.npy')\n",
    "mixture_spec_mic0 = mixture_spec_mic0[:,:256,:]\n",
    "mixture_spec_mic1 = np.load('../model_results/model_output/mixture_spec_mic1.npy')\n",
    "mixture_spec_mic1 = mixture_spec_mic1[:,:256,:]\n"
   ]
  },
  {
   "cell_type": "code",
   "execution_count": 4,
   "id": "3c14b80f",
   "metadata": {},
   "outputs": [
    {
     "name": "stdout",
     "output_type": "stream",
     "text": [
      "Shape of target_mask_0: (1, 2, 256, 256)\n",
      "Shape of noise_mask_0: (1, 2, 256, 256)\n",
      "Shape of target_mask_1: (1, 2, 256, 256)\n",
      "Shape of noise_mask_1: (1, 2, 256, 256)\n",
      "Shape of mixture_spec_mic0: (2, 256, 256)\n",
      "Shape of mixture_spec_mic1: (2, 256, 256)\n"
     ]
    }
   ],
   "source": [
    "# Print the shapes of the arrays\n",
    "print(f\"Shape of target_mask_0: {target_mask_0.shape}\")\n",
    "print(f\"Shape of noise_mask_0: {noise_mask_0.shape}\")\n",
    "print(f\"Shape of target_mask_1: {target_mask_1.shape}\")\n",
    "print(f\"Shape of noise_mask_1: {noise_mask_1.shape}\")\n",
    "\n",
    "print(f\"Shape of mixture_spec_mic0: {mixture_spec_mic0.shape}\")\n",
    "print(f\"Shape of mixture_spec_mic1: {mixture_spec_mic1.shape}\")\n",
    "\n",
    "# If you want to see basic stats about the masks, you can do the following:\n",
    "#print(f\"Target Mask - Min: {np.min(target_mask)}, Max: {np.max(target_mask)}, Mean: {np.mean(target_mask)}, Std: {np.std(target_mask)}\")\n",
    "#print(f\"Noise Mask - Min: {np.min(noise_mask)}, Max: {np.max(noise_mask)}, Mean: {np.mean(noise_mask)}, Std: {np.std(noise_mask)}\")\n"
   ]
  },
  {
   "cell_type": "code",
   "execution_count": 5,
   "id": "a4d01a8d",
   "metadata": {},
   "outputs": [
    {
     "name": "stdout",
     "output_type": "stream",
     "text": [
      "torch.float64\n"
     ]
    }
   ],
   "source": [
    "#Prepare data for PSD calculation\n",
    "# Convert to PyTorch tensors\n",
    "mixture_spec_mic0_tensor = torch.from_numpy(mixture_spec_mic0)\n",
    "mixture_spec_mic1_tensor = torch.from_numpy(mixture_spec_mic1)\n",
    "#target_mask_0_tensor = target_mask_0_tensor[:,:,-1,:]\n",
    "#target_mask_1_tensor = target_mask_1_tensor[:,:,-1,:]\n",
    "target_mask_0_tensor = torch.from_numpy(target_mask_0)\n",
    "target_mask_1_tensor = torch.from_numpy(target_mask_1)\n",
    "\n",
    "noise_mask_0_tensor = torch.from_numpy(noise_mask_0)\n",
    "noise_mask_1_tensor = torch.from_numpy(noise_mask_1)\n",
    "\n",
    "spectrogram_tensor = torch.stack([mixture_spec_mic0_tensor, mixture_spec_mic1_tensor], dim=0)\n",
    "print (spectrogram_tensor.dtype)\n",
    "target_mask_tensor = torch.stack([target_mask_0_tensor,target_mask_1_tensor], dim=0) \n",
    "target_mask_tensor = target_mask_tensor[:,0,:,:]\n",
    "noise_mask_tensor = torch.stack([noise_mask_0_tensor,noise_mask_1_tensor], dim=0) \n",
    "noise_mask_tensor = noise_mask_tensor[:,0,:,:]\n",
    " "
   ]
  },
  {
   "cell_type": "code",
   "execution_count": 6,
   "id": "b65d1d77",
   "metadata": {},
   "outputs": [
    {
     "name": "stdout",
     "output_type": "stream",
     "text": [
      "Shape of spectrogram_tensor: torch.Size([2, 2, 256, 256])\n",
      "Shape of target_mask_tensor: torch.Size([2, 2, 256, 256])\n",
      "Shape of target_mask_tensor: torch.Size([2, 2, 256, 256])\n",
      "torch.float64\n"
     ]
    }
   ],
   "source": [
    "print(f\"Shape of spectrogram_tensor: {spectrogram_tensor.shape}\")\n",
    "print(f\"Shape of target_mask_tensor: {target_mask_tensor.shape}\")\n",
    "print(f\"Shape of target_mask_tensor: {noise_mask_tensor.shape}\")\n",
    "print (spectrogram_tensor.dtype)"
   ]
  },
  {
   "cell_type": "code",
   "execution_count": 7,
   "id": "8771e454",
   "metadata": {},
   "outputs": [],
   "source": [
    "#Compute PSD Matrices\n",
    "psd_transform = torchaudio.transforms.PSD(multi_mask=True)"
   ]
  },
  {
   "cell_type": "code",
   "execution_count": 8,
   "id": "0a41806a",
   "metadata": {},
   "outputs": [
    {
     "name": "stdout",
     "output_type": "stream",
     "text": [
      "torch.float64\n"
     ]
    }
   ],
   "source": [
    "psd_matrix_target = psd_transform(spectrogram_tensor.unsqueeze(0), target_mask_tensor.unsqueeze(0))\n",
    "psd_matrix_target = psd_matrix_target.squeeze(0)\n",
    "psd_matrix_noise = psd_transform(spectrogram_tensor.unsqueeze(0), noise_mask_tensor.unsqueeze(0))\n",
    "psd_matrix_noise = psd_matrix_noise.squeeze(0)\n",
    "print (spectrogram_tensor.dtype)"
   ]
  },
  {
   "cell_type": "code",
   "execution_count": 9,
   "id": "f0ec7d51",
   "metadata": {},
   "outputs": [
    {
     "name": "stdout",
     "output_type": "stream",
     "text": [
      "Shape of psd_matrix_target: torch.Size([2, 256, 2, 2])\n",
      "Shape of psd_matrix_noise: torch.Size([2, 256, 2, 2])\n",
      "torch.float64\n"
     ]
    }
   ],
   "source": [
    "print(f\"Shape of psd_matrix_target: {psd_matrix_target.shape}\")\n",
    "print(f\"Shape of psd_matrix_noise: {psd_matrix_noise.shape}\")\n",
    "print (spectrogram_tensor.dtype)"
   ]
  },
  {
   "cell_type": "code",
   "execution_count": 10,
   "id": "04366503",
   "metadata": {},
   "outputs": [],
   "source": [
    "def condition_covariance(x, gamma):\n",
    "    \"\"\"\n",
    "    Stabilizes the covariance matrix by adding a scaled identity matrix.\n",
    "    :param x: Covariance matrix (tensor)\n",
    "    :param gamma: Regularization parameter\n",
    "    :return: Regularized covariance matrix\n",
    "    \"\"\"\n",
    "    identity_matrix = torch.eye(x.shape[-1], device=x.device, dtype=x.dtype)\n",
    "    scale = gamma * torch.trace(x) / x.shape[-1]\n",
    "    scaled_eye = identity_matrix * scale\n",
    "    return (x + scaled_eye) / (1 + gamma)\n",
    "\n",
    "def phase_correction(vector):\n",
    "    \"\"\"\n",
    "    Phase correction to reduce distortions due to phase inconsistencies.\n",
    "    Args:\n",
    "        vector: Beamforming vector with shape (bins, sensors) as a complex tensor.\n",
    "    Returns: Phase corrected beamforming vectors.\n",
    "    \"\"\"\n",
    "    w = vector.clone()\n",
    "    F, D = w.shape\n",
    "    for f in range(1, F):\n",
    "        phase_correction_factor = torch.exp(-1j * torch.angle(torch.sum(w[f, :] * w[f-1, :].conj())))\n",
    "        w[f, :] *= phase_correction_factor\n",
    "    return w\n",
    "\n",
    "def get_gev_vector(target_psd_matrix, noise_psd_matrix, base_reg_param=1e-6):\n",
    "    bins, num_channels, _ = noise_psd_matrix.shape\n",
    "    beamforming_vector = torch.empty((bins, num_channels), dtype=torch.complex128, device=target_psd_matrix.device)\n",
    "    for f in range(bins):\n",
    "        regularization_success = False\n",
    "        reg_param = base_reg_param\n",
    "        while not regularization_success:\n",
    "            try:\n",
    "                # Apply regularization\n",
    "                reg_identity = torch.eye(num_channels, dtype=target_psd_matrix.dtype, device=target_psd_matrix.device) * reg_param\n",
    "                noise_psd_reg = noise_psd_matrix[f, :, :] + reg_identity\n",
    "\n",
    "                # Attempt to compute the eigenvalues and eigenvectors\n",
    "                eigenvals, eigenvecs = eigh(target_psd_matrix[f, :, :], noise_psd_reg)\n",
    "                beamforming_vector[f, :] = eigenvecs[:, -1]\n",
    "                regularization_success = True  # Exit loop if successful\n",
    "            except RuntimeError as e:\n",
    "                # Increase the regularization parameter if the matrix is still not positive definite\n",
    "                reg_param *= 10\n",
    "                if reg_param > 1e-3:  # Avoid excessively high regularization\n",
    "                    print(f\"Could not regularize matrix at bin {f} even with high regularization: {e}\")\n",
    "                    break\n",
    "\n",
    "    return beamforming_vector"
   ]
  },
  {
   "cell_type": "code",
   "execution_count": 11,
   "id": "6a86de1b",
   "metadata": {},
   "outputs": [],
   "source": [
    "class GEVBeamformer:\n",
    "    def __init__(self, gamma=1e-6):\n",
    "        self.gamma = gamma\n",
    "\n",
    "    def compute_psd_matrix(self, observation, mask=None, normalize=True):\n",
    "        # Use the previously defined function\n",
    "        return get_power_spectral_density_matrix(observation, mask, normalize)\n",
    "\n",
    "    def condition_covariance(self, x):\n",
    "        # Use the previously defined function\n",
    "        return condition_covariance(x, self.gamma)  \n",
    "\n",
    "    def get_beamforming_vector(self, target_psd_matrix, noise_psd_matrix):\n",
    "        # First, condition the noise PSD matrix\n",
    "        conditioned_noise_psd = self.condition_covariance(noise_psd_matrix)\n",
    "        # Then, get the GEV beamforming vector\n",
    "        return get_gev_vector(target_psd_matrix, conditioned_noise_psd)\n",
    "    \n",
    "    def gev_wrapper_on_masks(self, mix, target_psd, noise_psd, normalization=False):\n",
    "        org_dtype = mix.dtype\n",
    "        mix = mix.to(torch.cdouble)  # Convert to complex double precision\n",
    "        mix = mix.transpose(0, 1)  # Transpose the matrix\n",
    "\n",
    "        # Condition the noise covariance matrix\n",
    "        noise_psd = condition_covariance(noise_psd, 1e-6)\n",
    "    \n",
    "        # Calculate the trace, reshaping appropriately\n",
    "        noise_psd = torch.diagonal(noise_psd, dim1=-2, dim2=-1).sum(-1, keepdim=True).unsqueeze(-1)\n",
    "        \n",
    "        #print shapes of masks for debugging\n",
    "        print (f'The shape of noise_psd is: {noise_psd.shape}')\n",
    "        print (f'The shape of target_psd is: {target_psd.shape}')\n",
    "        \n",
    "\n",
    "        # Get the GEV vector\n",
    "        W_gev = get_gev_vector(target_psd, noise_psd)\n",
    "\n",
    "        # Apply phase correction\n",
    "        W_gev = phase_correction(W_gev)\n",
    "\n",
    "        # Apply normalization if specified\n",
    "        if normalization:\n",
    "            W_gev = blind_analytic_normalization(W_gev, noise_psd)\n",
    "\n",
    "        # Apply the beamforming vector\n",
    "        output = apply_beamforming_vector(W_gev, mix)\n",
    "\n",
    "        # Convert the output back to the original data type and transpose back\n",
    "        output = output.to(org_dtype).transpose(0, 1)\n",
    "\n",
    "        return output\n",
    "   "
   ]
  },
  {
   "cell_type": "code",
   "execution_count": 13,
   "id": "d9fefd02",
   "metadata": {},
   "outputs": [
    {
     "name": "stdout",
     "output_type": "stream",
     "text": [
      "torch.complex128\n",
      "torch.complex128\n"
     ]
    },
    {
     "ename": "RuntimeError",
     "evalue": "trace: expected a matrix, but got tensor with dim 4",
     "output_type": "error",
     "traceback": [
      "\u001b[1;31m---------------------------------------------------------------------------\u001b[0m",
      "\u001b[1;31mRuntimeError\u001b[0m                              Traceback (most recent call last)",
      "Cell \u001b[1;32mIn[13], line 6\u001b[0m\n\u001b[0;32m      4\u001b[0m \u001b[38;5;28mprint\u001b[39m (spectrogram_tensor\u001b[38;5;241m.\u001b[39mdtype)\n\u001b[0;32m      5\u001b[0m gev \u001b[38;5;241m=\u001b[39m GEVBeamformer()\n\u001b[1;32m----> 6\u001b[0m gev\u001b[38;5;241m.\u001b[39mgev_wrapper_on_masks(spectrogram_tensor, psd_matrix_target,  psd_matrix_noise)\n",
      "Cell \u001b[1;32mIn[11], line 25\u001b[0m, in \u001b[0;36mGEVBeamformer.gev_wrapper_on_masks\u001b[1;34m(self, mix, target_psd, noise_psd, normalization)\u001b[0m\n\u001b[0;32m     22\u001b[0m mix \u001b[38;5;241m=\u001b[39m mix\u001b[38;5;241m.\u001b[39mtranspose(\u001b[38;5;241m0\u001b[39m, \u001b[38;5;241m1\u001b[39m)  \u001b[38;5;66;03m# Transpose the matrix\u001b[39;00m\n\u001b[0;32m     24\u001b[0m \u001b[38;5;66;03m# Condition the noise covariance matrix\u001b[39;00m\n\u001b[1;32m---> 25\u001b[0m noise_psd \u001b[38;5;241m=\u001b[39m condition_covariance(noise_psd, \u001b[38;5;241m1e-6\u001b[39m)\n\u001b[0;32m     27\u001b[0m \u001b[38;5;66;03m# Calculate the trace, reshaping appropriately\u001b[39;00m\n\u001b[0;32m     28\u001b[0m noise_psd \u001b[38;5;241m=\u001b[39m torch\u001b[38;5;241m.\u001b[39mdiagonal(noise_psd, dim1\u001b[38;5;241m=\u001b[39m\u001b[38;5;241m-\u001b[39m\u001b[38;5;241m2\u001b[39m, dim2\u001b[38;5;241m=\u001b[39m\u001b[38;5;241m-\u001b[39m\u001b[38;5;241m1\u001b[39m)\u001b[38;5;241m.\u001b[39msum(\u001b[38;5;241m-\u001b[39m\u001b[38;5;241m1\u001b[39m, keepdim\u001b[38;5;241m=\u001b[39m\u001b[38;5;28;01mTrue\u001b[39;00m)\u001b[38;5;241m.\u001b[39munsqueeze(\u001b[38;5;241m-\u001b[39m\u001b[38;5;241m1\u001b[39m)\n",
      "Cell \u001b[1;32mIn[10], line 9\u001b[0m, in \u001b[0;36mcondition_covariance\u001b[1;34m(x, gamma)\u001b[0m\n\u001b[0;32m      2\u001b[0m \u001b[38;5;250m\u001b[39m\u001b[38;5;124;03m\"\"\"\u001b[39;00m\n\u001b[0;32m      3\u001b[0m \u001b[38;5;124;03mStabilizes the covariance matrix by adding a scaled identity matrix.\u001b[39;00m\n\u001b[0;32m      4\u001b[0m \u001b[38;5;124;03m:param x: Covariance matrix (tensor)\u001b[39;00m\n\u001b[0;32m      5\u001b[0m \u001b[38;5;124;03m:param gamma: Regularization parameter\u001b[39;00m\n\u001b[0;32m      6\u001b[0m \u001b[38;5;124;03m:return: Regularized covariance matrix\u001b[39;00m\n\u001b[0;32m      7\u001b[0m \u001b[38;5;124;03m\"\"\"\u001b[39;00m\n\u001b[0;32m      8\u001b[0m identity_matrix \u001b[38;5;241m=\u001b[39m torch\u001b[38;5;241m.\u001b[39meye(x\u001b[38;5;241m.\u001b[39mshape[\u001b[38;5;241m-\u001b[39m\u001b[38;5;241m1\u001b[39m], device\u001b[38;5;241m=\u001b[39mx\u001b[38;5;241m.\u001b[39mdevice, dtype\u001b[38;5;241m=\u001b[39mx\u001b[38;5;241m.\u001b[39mdtype)\n\u001b[1;32m----> 9\u001b[0m scale \u001b[38;5;241m=\u001b[39m gamma \u001b[38;5;241m*\u001b[39m torch\u001b[38;5;241m.\u001b[39mtrace(x) \u001b[38;5;241m/\u001b[39m x\u001b[38;5;241m.\u001b[39mshape[\u001b[38;5;241m-\u001b[39m\u001b[38;5;241m1\u001b[39m]\n\u001b[0;32m     10\u001b[0m scaled_eye \u001b[38;5;241m=\u001b[39m identity_matrix \u001b[38;5;241m*\u001b[39m scale\n\u001b[0;32m     11\u001b[0m \u001b[38;5;28;01mreturn\u001b[39;00m (x \u001b[38;5;241m+\u001b[39m scaled_eye) \u001b[38;5;241m/\u001b[39m (\u001b[38;5;241m1\u001b[39m \u001b[38;5;241m+\u001b[39m gamma)\n",
      "\u001b[1;31mRuntimeError\u001b[0m: trace: expected a matrix, but got tensor with dim 4"
     ]
    }
   ],
   "source": [
    "print (spectrogram_tensor.dtype)\n",
    "spectrogram_tensor = spectrogram_tensor.to(torch.cdouble)  # Convert to complex double precision\n",
    "spectrogram_tensor = spectrogram_tensor.transpose(0, 1)  # Transpose the matrix\n",
    "print (spectrogram_tensor.dtype)\n",
    "gev = GEVBeamformer()\n",
    "gev.gev_wrapper_on_masks(spectrogram_tensor, psd_matrix_target,  psd_matrix_noise)"
   ]
  },
  {
   "cell_type": "code",
   "execution_count": null,
   "id": "a6d39270",
   "metadata": {},
   "outputs": [],
   "source": []
  }
 ],
 "metadata": {
  "kernelspec": {
   "display_name": "Python 3 (ipykernel)",
   "language": "python",
   "name": "python3"
  },
  "language_info": {
   "codemirror_mode": {
    "name": "ipython",
    "version": 3
   },
   "file_extension": ".py",
   "mimetype": "text/x-python",
   "name": "python",
   "nbconvert_exporter": "python",
   "pygments_lexer": "ipython3",
   "version": "3.11.5"
  }
 },
 "nbformat": 4,
 "nbformat_minor": 5
}
